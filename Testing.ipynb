{
 "cells": [
  {
   "cell_type": "code",
   "execution_count": 1,
   "metadata": {},
   "outputs": [],
   "source": [
    "import pandas as pd\n",
    "import numpy as np\n",
    "\n",
    "import matplotlib.pyplot as plt\n",
    "\n",
    "from pyts.image import GramianAngularField\n",
    "\n",
    "from sklearn.preprocessing import StandardScaler\n",
    "import datetime\n",
    "\n",
    "import tensorflow as tf\n",
    "from tensorflow import keras\n",
    "from tensorflow.python.keras import layers\n",
    "from sklearn.metrics import confusion_matrix\n",
    "from keras.models import Sequential\n",
    "from keras.layers import Conv2D, MaxPooling2D, Flatten, Dense, Dropout, InputLayer\n",
    "from keras.optimizers import Adam"
   ]
  },
  {
   "cell_type": "code",
   "execution_count": 2,
   "metadata": {},
   "outputs": [
    {
     "name": "stdout",
     "output_type": "stream",
     "text": [
      "(17, 6, 256, 256)\n",
      "(96, 6, 256, 256)\n",
      "(113, 6, 256, 256)\n",
      "(113,)\n"
     ]
    }
   ],
   "source": [
    "## Load the data\n",
    "cloudburst_data = np.load('CB18.npy')\n",
    "non_cloudburst_data = np.load('NB.npy')\n",
    "\n",
    "print(cloudburst_data.shape)\n",
    "print(non_cloudburst_data.shape)\n",
    "\n",
    "# Combine the cloudburst and non-cloudburst data into one array\n",
    "X = np.concatenate((cloudburst_data, non_cloudburst_data))\n",
    "\n",
    "# Create a target vector (1 for cloudburst, 0 for non-cloudburst)\n",
    "y = np.concatenate((np.ones(cloudburst_data.shape[0]), np.zeros(non_cloudburst_data.shape[0])))\n",
    "\n",
    "# Shuffle the data\n",
    "shuffle_index = np.random.permutation(X.shape[0])\n",
    "X = X[shuffle_index]\n",
    "y = y[shuffle_index]\n",
    "\n",
    "print(X.shape)\n",
    "print(y.shape)"
   ]
  },
  {
   "cell_type": "code",
   "execution_count": null,
   "metadata": {},
   "outputs": [],
   "source": [
    "import matplotlib.pyplot as plt\n",
    "import matplotlib.font_manager as fm\n",
    "\n",
    "# Define the font properties\n",
    "font = fm.FontProperties(family='Times New Roman', size=10)\n",
    "\n",
    "# Define the labels for each image\n",
    "labels = [\"RAIN FALL CUM. SINCE 0300 UTC (mm)\", \"TEMP. ('C)\", \"RH (%)\", \"WIND SPEED 10 m (Kt)\", \"SLP (hPa)\", \"MSLP (hPa / gpm)\"]\n",
    "\n",
    "# Create a 2x3 grid of subplots\n",
    "fig, axs = plt.subplots(nrows=2, ncols=3, figsize=(10, 6))\n",
    "\n",
    "# Loop through each image and its corresponding label, and display it in the corresponding subplot\n",
    "for i in range(6):\n",
    "    row = i // 3\n",
    "    col = i % 3\n",
    "    axs[row, col].imshow(X[0][i])\n",
    "    axs[row, col].set_title(labels[i], fontproperties=font)\n",
    "\n",
    "# Show the plot\n",
    "plt.tight_layout()\n",
    "plt.show()\n"
   ]
  },
  {
   "cell_type": "code",
   "execution_count": null,
   "metadata": {},
   "outputs": [],
   "source": [
    "import matplotlib.pyplot as plt\n",
    "import matplotlib.font_manager as fm\n",
    "\n",
    "# Define the font properties\n",
    "font = fm.FontProperties(family='Times New Roman', size=10)\n",
    "\n",
    "# Define the labels for each image\n",
    "labels = [\"RAIN FALL CUM. SINCE 0300 UTC (mm)\", \"TEMP. ('C)\", \"RH (%)\", \"WIND SPEED 10 m (Kt)\", \"SLP (hPa)\", \"MSLP (hPa / gpm)\"]\n",
    "\n",
    "# Create a 3x2 grid of subplots\n",
    "fig, axs = plt.subplots(nrows=3, ncols=2, figsize=(8, 10))\n",
    "\n",
    "# Loop through each pair of images and their corresponding labels, and display them in the corresponding subplots\n",
    "for i in range(3):\n",
    "    for j in range(2):\n",
    "        idx = 2*i+j\n",
    "        axs[i, j].imshow(X[1][idx])\n",
    "        axs[i, j].set_title(labels[idx], fontproperties=font)\n",
    "\n",
    "# Show the plot\n",
    "plt.tight_layout()\n",
    "plt.show()\n"
   ]
  },
  {
   "cell_type": "code",
   "execution_count": 14,
   "metadata": {},
   "outputs": [],
   "source": [
    "from keras.models import load_model\n",
    "\n",
    "model = load_model('Model6.h5')"
   ]
  },
  {
   "cell_type": "code",
   "execution_count": 4,
   "metadata": {},
   "outputs": [
    {
     "name": "stdout",
     "output_type": "stream",
     "text": [
      "4/4 [==============================] - 1s 70ms/step\n",
      "Confusion Matrix:\n",
      "[[96  0]\n",
      " [ 1 16]]\n",
      "Accuracy: 0.9911504424778761\n",
      "Precision: 1.0\n",
      "Recall: 0.9411764705882353\n",
      "F1-score: 0.9696969696969697\n"
     ]
    }
   ],
   "source": [
    "from sklearn.metrics import confusion_matrix, precision_recall_fscore_support\n",
    "\n",
    "# Calculate and print the confusion matrix\n",
    "y_pred = np.round(model.predict(X)).flatten()\n",
    "y_true = y.flatten()\n",
    "cm = confusion_matrix(y_true, y_pred)\n",
    "print(\"Confusion Matrix:\")\n",
    "print(cm)\n",
    "\n",
    "accuracy = (cm[0,0]+cm[1,1])/(cm[0,0]+cm[0,1]+cm[1,0]+cm[1,1])\n",
    "print(\"Accuracy:\", accuracy)\n",
    "\n",
    "# Calculate and print the F1-score and recall\n",
    "precision, recall, f1_score, _ = precision_recall_fscore_support(y_true, y_pred, average='binary')\n",
    "print(\"Precision:\", precision)\n",
    "print(\"Recall:\", recall)\n",
    "print(\"F1-score:\", f1_score)\n"
   ]
  },
  {
   "cell_type": "code",
   "execution_count": 17,
   "metadata": {},
   "outputs": [
    {
     "name": "stdout",
     "output_type": "stream",
     "text": [
      "(8, 6, 256, 256)\n",
      "1/1 [==============================] - 0s 29ms/step\n",
      "[[ 8]\n",
      " [99]\n",
      " [99]\n",
      " [97]\n",
      " [98]\n",
      " [ 0]\n",
      " [ 0]\n",
      " [ 0]]\n"
     ]
    }
   ],
   "source": [
    "test = np.load('TEST6.npy')\n",
    "print(test.shape)\n",
    "prediction = model.predict(test)\n",
    "\n",
    "# Multiply the output by 100 and convert it to integers\n",
    "prediction_int = (prediction * 100).astype(int)\n",
    "\n",
    "# Print the result\n",
    "print(prediction_int)"
   ]
  }
 ],
 "metadata": {
  "kernelspec": {
   "display_name": "Python 3",
   "language": "python",
   "name": "python3"
  },
  "language_info": {
   "codemirror_mode": {
    "name": "ipython",
    "version": 3
   },
   "file_extension": ".py",
   "mimetype": "text/x-python",
   "name": "python",
   "nbconvert_exporter": "python",
   "pygments_lexer": "ipython3",
   "version": "3.9.16"
  },
  "orig_nbformat": 4,
  "vscode": {
   "interpreter": {
    "hash": "5c3ae5b30a890397a3cbc9b8d8713d5c1cc299c9260435bdbf8473a86bc666a6"
   }
  }
 },
 "nbformat": 4,
 "nbformat_minor": 2
}
